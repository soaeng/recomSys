{
  "nbformat": 4,
  "nbformat_minor": 0,
  "metadata": {
    "colab": {
      "provenance": [],
      "toc_visible": true,
      "mount_file_id": "https://github.com/soaeng/recomSys/blob/main/MF.ipynb",
      "authorship_tag": "ABX9TyNdoI0ftXk48gkKVXbZc+93",
      "include_colab_link": true
    },
    "kernelspec": {
      "name": "python3",
      "display_name": "Python 3"
    },
    "language_info": {
      "name": "python"
    }
  },
  "cells": [
    {
      "cell_type": "markdown",
      "metadata": {
        "id": "view-in-github",
        "colab_type": "text"
      },
      "source": [
        "<a href=\"https://colab.research.google.com/github/soaeng/recomSys/blob/main/MF.ipynb\" target=\"_parent\"><img src=\"https://colab.research.google.com/assets/colab-badge.svg\" alt=\"Open In Colab\"/></a>"
      ]
    },
    {
      "cell_type": "markdown",
      "source": [
        "# 📌 SGD를 사용한 MF 기본 알고리즘"
      ],
      "metadata": {
        "id": "RHBWfldLsGKh"
      }
    },
    {
      "cell_type": "code",
      "source": [
        "import os\n",
        "import numpy as np\n",
        "import pandas as pd\n",
        "\n",
        "base_src = 'drive/MyDrive/RecoSys/Data'\n",
        "u_data_src = os.path.join(base_src, 'u.data')\n",
        "r_cols = ['user_id', 'movie_id', 'rating', 'timestamp']\n",
        "ratings = pd.read_csv(u_data_src, sep = '\\t', names = r_cols, encoding = 'latin-1')\n",
        "ratings = ratings[['user_id', 'movie_id', 'rating']].astype(int)"
      ],
      "metadata": {
        "id": "Rpt8Tfeu6Shd"
      },
      "execution_count": 3,
      "outputs": []
    },
    {
      "cell_type": "code",
      "source": [
        "# @title MF 클래스화\n",
        "\n",
        "class MF() :\n",
        "  def __init__(self, ratings, hyper_params):\n",
        "    self.R = np.array(ratings)\n",
        "    self.num_users, self.num_items = np.shape(self.R)\n",
        "    self.K = hyper_params['K']\n",
        "    self.alpha = hyper_params['alpha']\n",
        "    self.beta = hyper_params['beta']\n",
        "    self.iterations = hyper_params['iterations']\n",
        "    self.verbose = hyper_params['verbose']\n",
        "\n",
        "  def rmse(self):\n",
        "    xs, ys = self.R.nonzero()\n",
        "    self.predictions = []\n",
        "    self.errors = []\n",
        "\n",
        "    for x, y in zip(xs, ys):\n",
        "      prediction = self.get_prediction(x, y)\n",
        "      self.predictions.append(prediction)\n",
        "      self.errors.append(self.R[x, y] - prediction)\n",
        "    self.predictions = np.array(self.predictions)\n",
        "    self.errors = np.array(self.errors)\n",
        "\n",
        "    return np.sqrt(np.mean(self.errors ** 2))\n",
        "\n",
        "  def train(self):\n",
        "    self.P = np.random.normal(scale = 1. / self.K, size = (self.num_users, self.K))\n",
        "    self.Q = np.random.normal(scale = 1. / self.K, size = (self.num_items, self.K))\n",
        "    self.b_u = np.zeros(self.num_users)\n",
        "    self.b_d = np.zeros(self.num_items)\n",
        "    self.b = np.mean(self.R[self.R.nonzero()])\n",
        "\n",
        "    rows, columns = self.R.nonzero()\n",
        "    self.samples = [(i, j, self.R[i, j]) for i, j in zip(rows, columns)]\n",
        "\n",
        "    training_process = []\n",
        "\n",
        "    for i in range(self.iterations):\n",
        "      np.random.shuffle(self.samples)\n",
        "      self.sgd()\n",
        "      rmse = self.rmse()\n",
        "      training_process.append((i + 1, rmse))\n",
        "      if self.verbose:\n",
        "        if (i + 1) % 10 == 0:\n",
        "          print('Iteration: %d; train RMSE = %.4f' %(i+1, rmse))\n",
        "\n",
        "    return training_process\n",
        "\n",
        "  def get_prediction(self, i, j):\n",
        "    prediction = self.b + self.b_u[i] + self.b_d[j] + self.P[i, :].dot(self.Q[j,].T)\n",
        "    return prediction\n",
        "\n",
        "  def sgd(self):\n",
        "    for i, j, r in self.samples:\n",
        "      prediction = self.get_prediction(i, j)\n",
        "      e = (r - prediction)\n",
        "\n",
        "      self.b_u[i] += self.alpha * (e - (self.beta * self.b_u[i]))\n",
        "      self.b_d[j] += self.alpha * (e - (self.beta * self.b_d[j]))\n",
        "\n",
        "      self.P[i,:] += self.alpha * ((e * self.Q[j,:]) - (self.beta * self.P[i,:]))\n",
        "      self.Q[j,:] += self.alpha * ((e * self.P[i,:]) - (self.beta * self.Q[j,:]))\n"
      ],
      "metadata": {
        "id": "Ja5WtAty7fNK"
      },
      "execution_count": 20,
      "outputs": []
    },
    {
      "cell_type": "code",
      "source": [
        "# @title MF 적용 결과\n",
        "\n",
        "R_temp = ratings.pivot(index = 'user_id', columns = 'movie_id', values = 'rating').fillna(0)\n",
        "\n",
        "hyper_params = {\n",
        "    'K': 30,\n",
        "    'alpha': 0.001,\n",
        "    'beta': 0.02,\n",
        "    'iterations': 100,\n",
        "    'verbose': True\n",
        "}\n",
        "\n",
        "mf = MF(R_temp, hyper_params)\n",
        "\n",
        "train_process = mf.train()"
      ],
      "metadata": {
        "id": "krhXorbZG-3B",
        "outputId": "fa25126c-2aa7-4e46-8914-4afbe23ce3a8",
        "colab": {
          "base_uri": "https://localhost:8080/"
        }
      },
      "execution_count": 21,
      "outputs": [
        {
          "output_type": "stream",
          "name": "stdout",
          "text": [
            "Iteration: 10; train RMSE = 0.9585\n",
            "Iteration: 20; train RMSE = 0.9374\n",
            "Iteration: 30; train RMSE = 0.9281\n",
            "Iteration: 40; train RMSE = 0.9225\n",
            "Iteration: 50; train RMSE = 0.9183\n",
            "Iteration: 60; train RMSE = 0.9143\n",
            "Iteration: 70; train RMSE = 0.9096\n",
            "Iteration: 80; train RMSE = 0.9030\n",
            "Iteration: 90; train RMSE = 0.8937\n",
            "Iteration: 100; train RMSE = 0.8816\n"
          ]
        }
      ]
    }
  ]
}