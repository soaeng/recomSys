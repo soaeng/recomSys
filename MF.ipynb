{
  "nbformat": 4,
  "nbformat_minor": 0,
  "metadata": {
    "colab": {
      "provenance": [],
      "toc_visible": true,
      "mount_file_id": "https://github.com/soaeng/recomSys/blob/main/MF.ipynb",
      "authorship_tag": "ABX9TyP2FKYvjxdUWcnOh4qsljDq",
      "include_colab_link": true
    },
    "kernelspec": {
      "name": "python3",
      "display_name": "Python 3"
    },
    "language_info": {
      "name": "python"
    }
  },
  "cells": [
    {
      "cell_type": "markdown",
      "metadata": {
        "id": "view-in-github",
        "colab_type": "text"
      },
      "source": [
        "<a href=\"https://colab.research.google.com/github/soaeng/recomSys/blob/main/MF.ipynb\" target=\"_parent\"><img src=\"https://colab.research.google.com/assets/colab-badge.svg\" alt=\"Open In Colab\"/></a>"
      ]
    },
    {
      "cell_type": "markdown",
      "source": [
        "# 📌 SGD를 사용한 MF 기본 알고리즘"
      ],
      "metadata": {
        "id": "RHBWfldLsGKh"
      }
    },
    {
      "cell_type": "code",
      "source": [
        "import os\n",
        "import numpy as np\n",
        "import pandas as pd\n",
        "\n",
        "base_src = 'drive/MyDrive/RecoSys/Data'\n",
        "u_data_src = os.path.join(base_src, 'u.data')\n",
        "r_cols = ['user_id', 'movie_id', 'rating', 'timestamp']\n",
        "ratings = pd.read_csv(u_data_src, sep = '\\t', names = r_cols, encoding = 'latin-1')\n",
        "ratings = ratings[['user_id', 'movie_id', 'rating']].astype(int)"
      ],
      "metadata": {
        "id": "Rpt8Tfeu6Shd"
      },
      "execution_count": null,
      "outputs": []
    },
    {
      "cell_type": "code",
      "source": [
        "# @title MF 클래스화\n",
        "\n",
        "class MF() :\n",
        "  def __init__(self, ratings, hyper_params):\n",
        "    self.R = np.array(ratings)\n",
        "    self.num_users, self.num_items = np.shape(self.R)\n",
        "    self.K = hyper_params['K']\n",
        "    self.alpha = hyper_params['alpha']\n",
        "    self.beta = hyper_params['beta']\n",
        "    self.iterations = hyper_params['iterations']\n",
        "    self.verbose = hyper_params['verbose']\n",
        "\n",
        "  def rmse(self):\n",
        "    # relf.R에서 평점이 있는 요소의 인덱스를 가져옴\n",
        "    xs, ys = self.R.nonzero()\n",
        "    # prediction과 error를 담을 리스트 변수 초기화\n",
        "    self.predictions = []\n",
        "    self.errors = []\n",
        "\n",
        "    #평점이 있는 요소(사용자 x, 아이템 y) 각각에 대해 아래의 코드 실행\n",
        "    for x, y in zip(xs, ys):\n",
        "      # 사용자 x, 아이템 y에 대해 평점 예측치를 get_prediction() 함수 사용해 계산\n",
        "      prediction = self.get_prediction(x, y)\n",
        "      # 예측값을 리스트에 추가\n",
        "      self.predictions.append(prediction)\n",
        "      # 실제값(R)과의 차이를 계산해 오차값 리스트에 추가\n",
        "      self.errors.append(self.R[x, y] - prediction)\n",
        "\n",
        "    # 예측값 리스트와 오차값 리스트를 numpy array 형태로 변환\n",
        "    self.predictions = np.array(self.predictions)\n",
        "    self.errors = np.array(self.errors)\n",
        "\n",
        "    # error 활용해 RMSE 도출\n",
        "    return np.sqrt(np.mean(self.errors ** 2))\n",
        "\n",
        "  def train(self):\n",
        "    self.P = np.random.normal(scale = 1. / self.K, size = (self.num_users, self.K))\n",
        "    self.Q = np.random.normal(scale = 1. / self.K, size = (self.num_items, self.K))\n",
        "    self.b_u = np.zeros(self.num_users)\n",
        "    self.b_d = np.zeros(self.num_items)\n",
        "    self.b = np.mean(self.R[self.R.nonzero()])\n",
        "\n",
        "    rows, columns = self.R.nonzero()\n",
        "    self.samples = [(i, j, self.R[i, j]) for i, j in zip(rows, columns)]\n",
        "\n",
        "    training_process = []\n",
        "\n",
        "    for i in range(self.iterations):\n",
        "      np.random.shuffle(self.samples)\n",
        "      self.sgd()\n",
        "      rmse = self.rmse()\n",
        "      training_process.append((i + 1, rmse))\n",
        "      if self.verbose:\n",
        "        if (i + 1) % 10 == 0:\n",
        "          print('Iteration: %d; train RMSE = %.4f' %(i+1, rmse))\n",
        "\n",
        "    return training_process\n",
        "\n",
        "  def get_prediction(self, i, j):\n",
        "    # 사용자 i, 아이템 j에 대한 평점 예측치를 구함\n",
        "    prediction = self.b + self.b_u[i] + self.b_d[j] + self.P[i, :].dot(self.Q[j,].T)\n",
        "    return prediction\n",
        "\n",
        "  def sgd(self):\n",
        "    for i, j, r in self.samples:\n",
        "      # 사용자 i, 아이템 j에 대한 평점 예측치 계산\n",
        "      prediction = self.get_prediction(i, j)\n",
        "      # 실제 평점과 비교한 오차 계산\n",
        "      e = (r - prediction)\n",
        "\n",
        "      # 사용자 평가 경향 계산 및 업데이트\n",
        "      self.b_u[i] += self.alpha * (e - (self.beta * self.b_u[i]))\n",
        "      # 아이템 평가 경향 계산 및 업데이트\n",
        "      self.b_d[j] += self.alpha * (e - (self.beta * self.b_d[j]))\n",
        "\n",
        "      # P 행렬 계산 및 업데이트\n",
        "      self.P[i,:] += self.alpha * ((e * self.Q[j,:]) - (self.beta * self.P[i,:]))\n",
        "      # Q 행렬 계산 및 업데이트\n",
        "      self.Q[j,:] += self.alpha * ((e * self.P[i,:]) - (self.beta * self.Q[j,:]))\n"
      ],
      "metadata": {
        "id": "Ja5WtAty7fNK"
      },
      "execution_count": null,
      "outputs": []
    },
    {
      "cell_type": "code",
      "source": [
        "# @title MF 적용 결과\n",
        "\n",
        "R_temp = ratings.pivot(index = 'user_id', columns = 'movie_id', values = 'rating').fillna(0)\n",
        "\n",
        "hyper_params = {\n",
        "    'K': 30,\n",
        "    'alpha': 0.001,\n",
        "    'beta': 0.02,\n",
        "    'iterations': 100,\n",
        "    'verbose': True\n",
        "}\n",
        "\n",
        "mf = MF(R_temp, hyper_params)\n",
        "\n",
        "train_process = mf.train()"
      ],
      "metadata": {
        "id": "krhXorbZG-3B",
        "outputId": "fa25126c-2aa7-4e46-8914-4afbe23ce3a8",
        "colab": {
          "base_uri": "https://localhost:8080/"
        }
      },
      "execution_count": null,
      "outputs": [
        {
          "output_type": "stream",
          "name": "stdout",
          "text": [
            "Iteration: 10; train RMSE = 0.9585\n",
            "Iteration: 20; train RMSE = 0.9374\n",
            "Iteration: 30; train RMSE = 0.9281\n",
            "Iteration: 40; train RMSE = 0.9225\n",
            "Iteration: 50; train RMSE = 0.9183\n",
            "Iteration: 60; train RMSE = 0.9143\n",
            "Iteration: 70; train RMSE = 0.9096\n",
            "Iteration: 80; train RMSE = 0.9030\n",
            "Iteration: 90; train RMSE = 0.8937\n",
            "Iteration: 100; train RMSE = 0.8816\n"
          ]
        }
      ]
    },
    {
      "cell_type": "markdown",
      "source": [
        "# 📌 train/test 분리 MF 알고리즘\n"
      ],
      "metadata": {
        "id": "q-57b2RZ8rUK"
      }
    },
    {
      "cell_type": "code",
      "source": [
        "import os\n",
        "import numpy as np\n",
        "import pandas as pd\n",
        "\n",
        "base_src = 'drive/MyDrive/RecoSys/Data'\n",
        "u_data_src = os.path.join(base_src, 'u.data')\n",
        "r_cols = ['user_id', 'movie_id', 'rating', 'timestamp']\n",
        "ratings = pd.read_csv(u_data_src, sep = '\\t', names = r_cols, encoding = 'latin-1')\n",
        "# timestamp 제거\n",
        "ratings = ratings[['user_id', 'movie_id', 'rating']].astype(int)\n",
        "\n",
        "# train / test set 분리\n",
        "from sklearn.utils import shuffle\n",
        "TRAIN_SIZE = .75\n",
        "# (사용자 - 영화 - 평점)\n",
        "ratings = shuffle(ratings, random_state = 2021)\n",
        "cutoff = int(TRAIN_SIZE * len(ratings))\n",
        "ratings_train = ratings.iloc[:cutoff]\n",
        "ratings_test = ratings.iloc[cutoff:]\n",
        "\n",
        "class NEW_MF():\n",
        "  def __init__(self, ratings, hyper_params):\n",
        "    self.R = np.array(ratings)\n",
        "    self.num_users, self.num_items = np.shape(self.R)\n",
        "    self.K = hyper_params['K']\n",
        "    self.alpha = hyper_params['alpha']\n",
        "    self.beta = hyper_params['beta']\n",
        "    self.iterations = hyper_params['iterations']\n",
        "    self.verbose = hyper_params['verbose']\n",
        "\n",
        "    # about item_id\n",
        "    item_id_index = []\n",
        "    index_item_id = []\n",
        "    for i, one_id in enumerate(ratings):\n",
        "      item_id_index.append([one_id, i])\n",
        "      index_item_id.append([i, one_id])\n",
        "    self.item_id_index = dict(item_id_index)\n",
        "    self.index_item_id = dict(index_item_id)\n",
        "\n",
        "    # about user_id\n",
        "    user_id_index = []\n",
        "    index_user_id = []\n",
        "    for i, one_id in enumerate(ratings.T):\n",
        "      user_id_index.append([one_id, i])\n",
        "      index_user_id.append([i, one_id])\n",
        "    self.user_id_index = dict(user_id_index)\n",
        "    self.index_user_id = dict(index_user_id)\n",
        "\n",
        "  def rmse(self):\n",
        "    xs, ys = self.R.nonzero()\n",
        "    self.predictions = []\n",
        "    self.errors = []\n",
        "\n",
        "    for x, y in zip(xs, ys):\n",
        "      prediction = self.get_prediction(x, y)\n",
        "      self.predictions.append(prediction)\n",
        "      self.errors.append(self.R[x, y] - prediction)\n",
        "    self.predictions = np.array(self.predictions)\n",
        "    self.errors = np.array(self.errors)\n",
        "\n",
        "    return np.sqrt(np.mean(self.errors ** 2))\n",
        "\n",
        "  def sgd(self):\n",
        "    for i, j, r in self.samples:\n",
        "      prediction = self.get_prediction(i, j)\n",
        "      e = (r - prediction)\n",
        "\n",
        "      self.b_u[i] += self.alpha * (e - (self.beta * self.b_u[i]))\n",
        "      self.b_d[j] += self.alpha * (e - (self.beta * self.b_d[j]))\n",
        "\n",
        "      self.P[i,:] += self.alpha * ((e * self.Q[j,:]) - (self.beta * self.P[i,:]))\n",
        "      self.Q[j,:] += self.alpha * ((e * self.P[i,:]) - (self.beta * self.Q[j,:]))\n",
        "\n",
        "  def get_prediction(self, i, j):\n",
        "    # 사용자 i, 아이템 j에 대한 평점 예측치를 구함\n",
        "    prediction = self.b + self.b_u[i] + self.b_d[j] + self.P[i, :].dot(self.Q[j, :].T)\n",
        "    return prediction\n",
        "\n",
        "  # Test set 선정\n",
        "  def set_test(self, ratings_test):\n",
        "    test_set = []\n",
        "    for i in range(len(ratings_test)):\n",
        "      x = self.user_id_index[ratings_test.iloc[i, 0]]\n",
        "      y = self.item_id_index[ratings_test.iloc[i, 1]]\n",
        "      z = ratings_test.iloc[i, 2]\n",
        "      test_set.append([x, y, z])\n",
        "      self.R[x, y] = 0\n",
        "    self.test_set = test_set\n",
        "    return test_set\n",
        "\n",
        "  # Test set RMSE 계산\n",
        "  def test_rmse(self):\n",
        "    error = 0\n",
        "    for one_set in self.test_set:\n",
        "      predicted = self.get_prediction(one_set[0], one_set[1])\n",
        "      # e => e^2\n",
        "      error += pow(one_set[2] - predicted, 2)\n",
        "    return np.sqrt(error/len(self.test_set))\n",
        "\n",
        "  def test(self):\n",
        "    self.P = np.random.normal(scale = 1./self.K, size = (self.num_users, self.K))\n",
        "    self.Q = np.random.normal(scale = 1./self.K, size = (self.num_items, self.K))\n",
        "    self.b_u = np.zeros(self.num_users)\n",
        "    self.b_d = np.zeros(self.num_items)\n",
        "    self.b = np.mean(self.R[self.R.nonzero()])\n",
        "\n",
        "    rows, columns = self.R.nonzero()\n",
        "    self.samples = [(i, j, self.R[i, j]) for i, j in zip(rows, columns)]\n",
        "    training_process = []\n",
        "    for i in range(self.iterations):\n",
        "      np.random.shuffle(self.samples)\n",
        "      self.sgd()\n",
        "      # training\n",
        "      rmse1 = self.rmse()\n",
        "      # test\n",
        "      rmse2 = self.test_rmse()\n",
        "      training_process.append((i+1, rmse1, rmse2))\n",
        "      if self.verbose:\n",
        "        if (i+1) % 10 == 0:\n",
        "          print('Itertion: %d: Train RMSE = %.4f; Test RMSE = %.4f' % (i+1, rmse1, rmse2))\n",
        "    return training_process\n",
        "\n",
        "  def get_one_prediction(self, user_id, item_id):\n",
        "    return self.get_prediction(self.user_id_index[user_id], self.item_id_index[item_id])\n",
        "\n",
        "  def full_prediction(self):\n",
        "    return self.b + self.b_u[:, np.newaxis] + self.b_d[np.newaxis, :] + self.P.dot(self.Q.T)\n"
      ],
      "metadata": {
        "id": "-e-KLAth8xvr"
      },
      "execution_count": 32,
      "outputs": []
    },
    {
      "cell_type": "code",
      "source": [
        "R_temp = ratings.pivot(index = 'user_id', columns = 'movie_id', values = 'rating').fillna(0)\n",
        "\n",
        "hyper_params = {\n",
        "    'K': 30,\n",
        "    'alpha': 0.001,\n",
        "    'beta': .02,\n",
        "    'iterations': 100,\n",
        "    'verbose': True\n",
        "}\n",
        "\n",
        "mf = NEW_MF(R_temp, hyper_params)\n",
        "test_set = mf.set_test(ratings_test)\n",
        "result = mf.test()"
      ],
      "metadata": {
        "colab": {
          "base_uri": "https://localhost:8080/"
        },
        "id": "Edx--5BGM6XY",
        "outputId": "fb563f99-4a30-47eb-ac57-df15d33649d4"
      },
      "execution_count": 34,
      "outputs": [
        {
          "output_type": "stream",
          "name": "stdout",
          "text": [
            "Itertion: 10: Train RMSE = 0.9666; Test RMSE = 0.9807\n",
            "Itertion: 20: Train RMSE = 0.9412; Test RMSE = 0.9622\n",
            "Itertion: 30: Train RMSE = 0.9298; Test RMSE = 0.9551\n",
            "Itertion: 40: Train RMSE = 0.9229; Test RMSE = 0.9514\n",
            "Itertion: 50: Train RMSE = 0.9180; Test RMSE = 0.9492\n",
            "Itertion: 60: Train RMSE = 0.9141; Test RMSE = 0.9477\n",
            "Itertion: 70: Train RMSE = 0.9104; Test RMSE = 0.9466\n",
            "Itertion: 80: Train RMSE = 0.9064; Test RMSE = 0.9455\n",
            "Itertion: 90: Train RMSE = 0.9016; Test RMSE = 0.9443\n",
            "Itertion: 100: Train RMSE = 0.8954; Test RMSE = 0.9427\n"
          ]
        }
      ]
    },
    {
      "cell_type": "code",
      "source": [
        "print(mf.full_prediction())"
      ],
      "metadata": {
        "colab": {
          "base_uri": "https://localhost:8080/"
        },
        "id": "T7arEXX1KY29",
        "outputId": "acd3dd3e-10bc-4a1a-bd1d-8b61b9928941"
      },
      "execution_count": 28,
      "outputs": [
        {
          "output_type": "stream",
          "name": "stdout",
          "text": [
            "[[3.84448849 3.34655001 3.01282037 ... 3.34464347 3.49498793 3.45017661]\n",
            " [3.77589185 3.2698036  2.900525   ... 3.26310705 3.38426143 3.34139232]\n",
            " [3.42320799 2.88844024 2.51299584 ... 2.87665867 2.99527565 2.95602068]\n",
            " ...\n",
            " [4.15560831 3.61088308 3.22257134 ... 3.58340108 3.69098826 3.68371235]\n",
            " [4.2873094  3.78036089 3.40794359 ... 3.76237229 3.8796475  3.85337402]\n",
            " [3.82807395 3.32011843 2.89875605 ... 3.28523877 3.4329342  3.38456292]]\n"
          ]
        }
      ]
    },
    {
      "cell_type": "code",
      "source": [
        "print(mf.get_one_prediction(1, 2))"
      ],
      "metadata": {
        "colab": {
          "base_uri": "https://localhost:8080/"
        },
        "id": "RVGduUG-Kc8v",
        "outputId": "90a0d486-143d-45c2-9db2-d2d1f94cc123"
      },
      "execution_count": 35,
      "outputs": [
        {
          "output_type": "stream",
          "name": "stdout",
          "text": [
            "3.378895826999353\n"
          ]
        }
      ]
    }
  ]
}